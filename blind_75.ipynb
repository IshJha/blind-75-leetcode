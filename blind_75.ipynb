{
 "cells": [
  {
   "cell_type": "markdown",
   "metadata": {},
   "source": [
    "# **Section 1: Arrays**"
   ]
  },
  {
   "cell_type": "code",
   "execution_count": 12,
   "metadata": {},
   "outputs": [
    {
     "data": {
      "text/plain": [
       "(3, 1)"
      ]
     },
     "execution_count": 12,
     "metadata": {},
     "output_type": "execute_result"
    }
   ],
   "source": [
    "# 1.two sum\n",
    "\n",
    "def two_sum(l:list,target:int):\n",
    "    memo={}\n",
    "    for i in range(len(l)):\n",
    "        complement=target-l[i]\n",
    "        if complement in memo:\n",
    "            return (i,memo[i])\n",
    "        \n",
    "        memo[l[i]]=i\n",
    "\n",
    "\n",
    "\n",
    "l=[1,3,5,7,4]\n",
    "target=10\n",
    "res=two_sum(l=l,target=target)\n",
    "res"
   ]
  },
  {
   "cell_type": "code",
   "execution_count": 35,
   "metadata": {},
   "outputs": [
    {
     "data": {
      "text/plain": [
       "0"
      ]
     },
     "execution_count": 35,
     "metadata": {},
     "output_type": "execute_result"
    }
   ],
   "source": [
    "#2.best time to buy and sell stock\n",
    "def stock_market(l:list):\n",
    "    low=float(\"inf\")\n",
    "    profit=0\n",
    "    for i in l:\n",
    "        if i<low:\n",
    "            low=i\n",
    "    low_index=l.index(low)\n",
    "    for i in range(low_index+1,len(l)):\n",
    "        if (l[i]-low) > profit:\n",
    "            profit=l[i]-low\n",
    "    return profit\n",
    "\n",
    "\n",
    "\n",
    "l=[2,7,8,6,7,1]\n",
    "result=stock_market(l)\n",
    "result"
   ]
  },
  {
   "cell_type": "code",
   "execution_count": 57,
   "metadata": {},
   "outputs": [
    {
     "data": {
      "text/plain": [
       "0"
      ]
     },
     "execution_count": 57,
     "metadata": {},
     "output_type": "execute_result"
    }
   ],
   "source": [
    "#2. best time to buy and sell stock\n",
    "def stock_market(l:list):\n",
    "    buy=l[0]\n",
    "    profit=0\n",
    "    for i in range(1,len(l)):\n",
    "        if l[i] > buy:\n",
    "            profit=max(profit,l[i]-buy)\n",
    "        else:\n",
    "            buy=l[i]\n",
    "    return profit\n",
    "\n",
    "\n",
    "\n",
    "l=[7,6,5,4,1]\n",
    "result=stock_market(l)\n",
    "result\n"
   ]
  },
  {
   "cell_type": "code",
   "execution_count": 6,
   "metadata": {},
   "outputs": [
    {
     "data": {
      "text/plain": [
       "True"
      ]
     },
     "execution_count": 6,
     "metadata": {},
     "output_type": "execute_result"
    }
   ],
   "source": [
    "# 3. contains duplicate\n",
    "\n",
    "def is_duplicate(l:list)->bool:\n",
    "    memo={}\n",
    "    for i in l:\n",
    "        if i in memo:\n",
    "            return True\n",
    "        else:\n",
    "            memo[i]=True\n",
    "    return False\n",
    "\n",
    "\n",
    "l=[1,2,1,3,4]\n",
    "res=is_duplicate(l)\n",
    "res"
   ]
  },
  {
   "cell_type": "code",
   "execution_count": 42,
   "metadata": {},
   "outputs": [
    {
     "name": "stdout",
     "output_type": "stream",
     "text": [
      "pp [1, 1, 2, 6]\n"
     ]
    },
    {
     "data": {
      "text/plain": [
       "[24, 12, 8, 6]"
      ]
     },
     "execution_count": 42,
     "metadata": {},
     "output_type": "execute_result"
    }
   ],
   "source": [
    "# 4. product of array except self\n",
    "\n",
    "def prod_excep_self(l:list):\n",
    "    pre_prod=[1]\n",
    "    suf_prod=[1]\n",
    "    ans=[]\n",
    "    for i in range(1,len(l)):\n",
    "        pre_prod.append(pre_prod[-1]*l[i-1])\n",
    "    print(\"pp\",pre_prod)\n",
    "    for i in range(len(l)-2,-1,-1):\n",
    "        suf_prod.append(suf_prod[-1]*l[i+1])\n",
    "\n",
    "    for i,j in zip(pre_prod,suf_prod[::-1]):\n",
    "        ans.append(i*j)\n",
    "    return ans\n",
    "\n",
    "\n",
    "\n",
    "\n",
    "l=[1,2,3,4]\n",
    "res=prod_excep_self(l)\n",
    "res"
   ]
  },
  {
   "cell_type": "code",
   "execution_count": 50,
   "metadata": {},
   "outputs": [
    {
     "name": "stdout",
     "output_type": "stream",
     "text": [
      "[1, 1, 2, 6]\n",
      "prod 6\n",
      "prod 8\n",
      "prod 12\n",
      "prod 24\n"
     ]
    }
   ],
   "source": [
    "# 4. product of array except self\n",
    "\n",
    "def prod_excep_self(l:list):\n",
    "    pre_prod=[1]\n",
    "    suf_prod=1\n",
    "    ans=[]\n",
    "    for i in range(1,len(l)):\n",
    "        pre_prod.append(pre_prod[-1]*l[i-1])\n",
    "    print(pre_prod)\n",
    "    for i in range(len(l)-1,-1,-1):\n",
    "        if i==len(l)-1:\n",
    "            suf_prod=1\n",
    "            prod=suf_prod*pre_prod[i]\n",
    "            print(\"prod\",prod)\n",
    "        else:\n",
    "            suf_prod=suf_prod*l[i+1]\n",
    "            prod=suf_prod*pre_prod[i]\n",
    "            print(\"prod\",prod)\n",
    "\n",
    "\n",
    "        \n",
    "\n",
    "l=[1,2,3,4]\n",
    "res=prod_excep_self(l)\n",
    "res"
   ]
  },
  {
   "cell_type": "code",
   "execution_count": 113,
   "metadata": {},
   "outputs": [
    {
     "data": {
      "text/plain": [
       "3"
      ]
     },
     "execution_count": 113,
     "metadata": {},
     "output_type": "execute_result"
    }
   ],
   "source": [
    "# 5. maximum sum of subarray\n",
    "def max_sum_sub(l:list):\n",
    "    maxi=l[0]\n",
    "    prev=l[0]\n",
    "    for i in range(1,len(l)):\n",
    "        prev=max(l[i],prev+l[i])\n",
    "        maxi=max(maxi,prev)\n",
    "    return maxi\n",
    "        \n",
    "# l=[-2,1,-3,4,-1,2,1,-5,4]\n",
    "l=[-1,-2,3,-2]\n",
    "res=max_sum_sub(l)\n",
    "res"
   ]
  },
  {
   "cell_type": "code",
   "execution_count": 31,
   "metadata": {},
   "outputs": [
    {
     "data": {
      "text/plain": [
       "120"
      ]
     },
     "execution_count": 31,
     "metadata": {},
     "output_type": "execute_result"
    }
   ],
   "source": [
    "# 6. maximum product subarray\n",
    "def max_prod_sub(l: list):\n",
    "    max_global = l[0]\n",
    "    max_prev = l[0]\n",
    "    min_prev = l[0]\n",
    "    \n",
    "    for i in range(1, len(l)):\n",
    "        # If the current element is negative, max_prev and min_prev swap their roles\n",
    "        if l[i] < 0:\n",
    "            max_prev, min_prev = min_prev, max_prev\n",
    "        \n",
    "        # Update max_prev and min_prev\n",
    "        max_prev = max(l[i], max_prev * l[i])\n",
    "        min_prev = min(l[i], min_prev * l[i])\n",
    "        \n",
    "        # Update the global maximum product\n",
    "        max_global = max(max_global, max_prev)\n",
    "    \n",
    "    return max_global\n",
    "\n",
    "l = [-5, 2, 3, -4]\n",
    "res = max_prod_sub(l)\n",
    "res\n"
   ]
  },
  {
   "cell_type": "code",
   "execution_count": 3,
   "metadata": {},
   "outputs": [
    {
     "data": {
      "text/plain": [
       "0"
      ]
     },
     "execution_count": 3,
     "metadata": {},
     "output_type": "execute_result"
    }
   ],
   "source": [
    "# 7. minimun in a rotated sorted array index position\n",
    "\n",
    "def min_rotated(l:list,rot):\n",
    "    index=-(rot%len(l))\n",
    "    return index\n",
    "\n",
    "    \n",
    "    \n",
    "\n",
    "\n",
    "l=[1,2,3,4,5]\n",
    "rot=5\n",
    "res=min_rotated(l,rot)\n",
    "res"
   ]
  },
  {
   "cell_type": "code",
   "execution_count": 3,
   "metadata": {},
   "outputs": [
    {
     "data": {
      "text/plain": [
       "1"
      ]
     },
     "execution_count": 3,
     "metadata": {},
     "output_type": "execute_result"
    }
   ],
   "source": [
    "# 8. minimun in a rotated sorted array\n",
    "\n",
    "def min_roated_array(l:list):\n",
    "    if len(l)==1:\n",
    "        return l[0]\n",
    "    if len(l)==2:\n",
    "        return min(l[0],l[1])\n",
    "    if l[0] < l[-1]:\n",
    "        return l[0]\n",
    "    \n",
    "    left=0\n",
    "    right=len(l)-1\n",
    "\n",
    "    while left <=right:\n",
    "        middle=(left+right)//2\n",
    "        if l[middle] > l[middle+1]:\n",
    "            return l[middle+1]\n",
    "        if l[middle-1]>l[middle]:\n",
    "            return l[middle]\n",
    "        if l[left]<l[middle]:\n",
    "            left=middle\n",
    "            right=right\n",
    "        else:\n",
    "            right=middle\n",
    "            left=left\n",
    "    return None\n",
    "        \n",
    "res=min_roated_array([5,6,7,1,2,3])\n",
    "res\n"
   ]
  },
  {
   "cell_type": "code",
   "execution_count": 14,
   "metadata": {},
   "outputs": [
    {
     "name": "stdout",
     "output_type": "stream",
     "text": [
      "1\n"
     ]
    }
   ],
   "source": [
    "# 9. search in roated sorted array\n",
    "\n",
    "def search_rotated(l: list, target: int) -> int:\n",
    "    left, right = 0, len(l) - 1\n",
    "    \n",
    "    while left <= right:\n",
    "        middle = (left + right) // 2\n",
    "        \n",
    "        # Check if the middle element is the target\n",
    "        if l[middle] == target:\n",
    "            return middle\n",
    "        \n",
    "        # Determine which side is sorted\n",
    "        if l[left] <= l[middle]:  # Left side is sorted\n",
    "            if l[left] <= target < l[middle]:  # Target is in the left side\n",
    "                right = middle - 1\n",
    "            else:  # Target is in the right side\n",
    "                left = middle + 1\n",
    "        else:  # Right side is sorted\n",
    "            if l[middle] < target <= l[right]:  # Target is in the right side\n",
    "                left = middle + 1\n",
    "            else:  # Target is in the left side\n",
    "                right = middle - 1\n",
    "    \n",
    "    # If the target is not found\n",
    "    return -1\n",
    "\n",
    "# Test the function\n",
    "res = search_rotated(l=[5, 6, 7, 1, 2, 3], target=6)\n",
    "print(res)  # Output should be the index of 6, which is 1\n"
   ]
  },
  {
   "cell_type": "code",
   "execution_count": 27,
   "metadata": {},
   "outputs": [
    {
     "name": "stdout",
     "output_type": "stream",
     "text": [
      "2\n"
     ]
    }
   ],
   "source": [
    "# 9. search in roated sorted array\n",
    "\n",
    "def search_rotated(l: list, target: int) -> int:\n",
    "    left, right = 0, len(l) - 1\n",
    "    \n",
    "    while left <= right:\n",
    "        middle = (left + right) // 2\n",
    "        \n",
    "        # Check if the middle element is the target\n",
    "        if l[middle] == target:\n",
    "            return middle\n",
    "        \n",
    "        if l[left] <= target < l[middle]:# element on the left\n",
    "                right=middle-1\n",
    "        \n",
    "        elif l[middle] < target <=l[right]:\n",
    "            left=middle+1\n",
    "            \n",
    "        \n",
    "      \n",
    "\n",
    "# Test the function\n",
    "res = search_rotated(l=[5, 6, 7, 1, 2, 3], target=7)\n",
    "print(res)  # Output should be the index of 6, which is 1\n"
   ]
  },
  {
   "cell_type": "code",
   "execution_count": 34,
   "metadata": {},
   "outputs": [
    {
     "data": {
      "text/plain": [
       "[[-3, 1, 2], [-2, 0, 2], [-2, 1, 1], [-1, 0, 1], [0, 0, 0], [0, 0, 0]]"
      ]
     },
     "execution_count": 34,
     "metadata": {},
     "output_type": "execute_result"
    }
   ],
   "source": [
    "# 10. 3 sum \n",
    "def three_sum(l:list):\n",
    "    ans=[]\n",
    "    # first sort the list:\n",
    "    for i in range(len(l)):\n",
    "        for j in range(len(l)-1):\n",
    "            if l[j] > l[j+1]:\n",
    "                l[j],l[j+1]=l[j+1],l[j]\n",
    "    for i in range(len(l)-2):\n",
    "        curr=l[i]\n",
    "        left=i+1\n",
    "        right=len(l)-1\n",
    "        while left <= right:\n",
    "            if (l[left]+l[right])==-curr:\n",
    "                ans.append([l[i],l[left],l[right]])\n",
    "                left+=1\n",
    "                right-=1\n",
    "                while left < right and l[left] == l[left - 1]:\n",
    "                    left += 1\n",
    "                while left < right and l[right] == l[right + 1]:\n",
    "                    right -= 1\n",
    "            elif (l[left]+l[right]) > -curr:\n",
    "                right=right-1\n",
    "            else:\n",
    "                left=left+1\n",
    "    return ans\n",
    "\n",
    "\n",
    "\n",
    "l=[-1,1,0,0,-2,2,2,-3,0]\n",
    "res=three_sum(l)\n",
    "res"
   ]
  },
  {
   "cell_type": "code",
   "execution_count": 44,
   "metadata": {},
   "outputs": [
    {
     "data": {
      "text/plain": [
       "3"
      ]
     },
     "execution_count": 44,
     "metadata": {},
     "output_type": "execute_result"
    }
   ],
   "source": [
    "# 11. container with maximum water\n",
    "def max_water(l:list):\n",
    "    water=0\n",
    "    left=0\n",
    "    right=len(l)-1\n",
    "    while left < right:\n",
    "        water=max(water,(right-left)*min(l[left],l[right]))\n",
    "        if l[left] > l[right]:\n",
    "            right=right-1\n",
    "        else:\n",
    "            left=left+1\n",
    "    return water\n",
    "\n",
    "\n",
    "\n",
    "l=[1,7,4,6,3,5,8,6]\n",
    "l=[1,2,2,1]\n",
    "res=max_water(l)\n",
    "res"
   ]
  },
  {
   "cell_type": "markdown",
   "metadata": {},
   "source": [
    "# **Section 2: Strings**"
   ]
  },
  {
   "cell_type": "code",
   "execution_count": 10,
   "metadata": {},
   "outputs": [
    {
     "data": {
      "text/plain": [
       "(5, 'cdfba')"
      ]
     },
     "execution_count": 10,
     "metadata": {},
     "output_type": "execute_result"
    }
   ],
   "source": [
    "# 1. Longest substring without repeating characters\n",
    "\n",
    "def long_sub(s:str):\n",
    "    curr=\"\"\n",
    "    maxi=0\n",
    "    maxi_s=\"\"\n",
    "    for i in s:\n",
    "        if i not in curr:\n",
    "            curr=curr+i\n",
    "        else:\n",
    "            if len(curr)>maxi:\n",
    "                maxi=len(curr)\n",
    "                maxi_s=curr\n",
    "            curr=\"\"\n",
    "    return maxi,maxi_s\n",
    "\n",
    "s=\"abbcdfbaccac\"\n",
    "res=long_sub(s)\n",
    "res"
   ]
  },
  {
   "cell_type": "code",
   "execution_count": 11,
   "metadata": {},
   "outputs": [
    {
     "data": {
      "text/plain": [
       "5"
      ]
     },
     "execution_count": 11,
     "metadata": {},
     "output_type": "execute_result"
    }
   ],
   "source": [
    "# 1. Longest substring without repeating characters\n",
    "\n",
    "def long_sub(s:str):\n",
    "    curr=\"\"\n",
    "    memo={}\n",
    "    maxi=0\n",
    "    for i in s:\n",
    "        if i not in memo:\n",
    "            memo[i]=True\n",
    "        else:\n",
    "            if len(memo) > maxi:\n",
    "                maxi=len(memo)\n",
    "            memo={}\n",
    "    return maxi\n",
    "\n",
    "\n",
    "\n",
    "s=\"abbcdfbaccac\"\n",
    "res=long_sub(s)\n",
    "res"
   ]
  },
  {
   "cell_type": "code",
   "execution_count": 43,
   "metadata": {},
   "outputs": [
    {
     "data": {
      "text/plain": [
       "4"
      ]
     },
     "execution_count": 43,
     "metadata": {},
     "output_type": "execute_result"
    }
   ],
   "source": [
    "# 1. Longest substring without repeating characters\n",
    "def long_sub(s:str):\n",
    "    memo={}\n",
    "    maxi=0\n",
    "    left=0\n",
    "    for i in range(len(s)):\n",
    "        if s[i] not in memo:\n",
    "            memo[s[i]]=i\n",
    "            maxi=max(maxi,(i-left)+1)\n",
    "            # print(maxi,memo)\n",
    "        else:\n",
    "            memo[s[i]]=i\n",
    "            left=max(left,(memo[s[i]]))\n",
    "    return maxi\n",
    "\n",
    "\n",
    "\n",
    "s=\"abbcdfbaccac\"\n",
    "res=long_sub(s)\n",
    "res  "
   ]
  }
 ],
 "metadata": {
  "kernelspec": {
   "display_name": "Python 3",
   "language": "python",
   "name": "python3"
  },
  "language_info": {
   "codemirror_mode": {
    "name": "ipython",
    "version": 3
   },
   "file_extension": ".py",
   "mimetype": "text/x-python",
   "name": "python",
   "nbconvert_exporter": "python",
   "pygments_lexer": "ipython3",
   "version": "3.11.0"
  }
 },
 "nbformat": 4,
 "nbformat_minor": 2
}
